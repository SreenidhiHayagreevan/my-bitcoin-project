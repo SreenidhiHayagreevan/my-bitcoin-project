{
  "nbformat": 4,
  "nbformat_minor": 0,
  "metadata": {
    "colab": {
      "provenance": []
    },
    "kernelspec": {
      "name": "python3",
      "display_name": "Python 3"
    },
    "language_info": {
      "name": "python"
    }
  },
  "cells": [
    {
      "cell_type": "code",
      "execution_count": null,
      "metadata": {
        "colab": {
          "base_uri": "https://localhost:8080/"
        },
        "id": "JJuRuiPUrjvb",
        "outputId": "6829897c-1a31-497e-80d1-9bd5d3fcddde"
      },
      "outputs": [
        {
          "output_type": "stream",
          "name": "stdout",
          "text": [
            "Requirement already satisfied: requests in /usr/local/lib/python3.11/dist-packages (2.32.3)\n",
            "Requirement already satisfied: pandas in /usr/local/lib/python3.11/dist-packages (2.2.2)\n",
            "Collecting snowflake-connector-python\n",
            "  Downloading snowflake_connector_python-3.16.0-cp311-cp311-manylinux_2_17_x86_64.manylinux2014_x86_64.whl.metadata (71 kB)\n",
            "\u001b[2K     \u001b[90m━━━━━━━━━━━━━━━━━━━━━━━━━━━━━━━━━━━━━━━━\u001b[0m \u001b[32m71.8/71.8 kB\u001b[0m \u001b[31m2.0 MB/s\u001b[0m eta \u001b[36m0:00:00\u001b[0m\n",
            "\u001b[?25hRequirement already satisfied: charset-normalizer<4,>=2 in /usr/local/lib/python3.11/dist-packages (from requests) (3.4.2)\n",
            "Requirement already satisfied: idna<4,>=2.5 in /usr/local/lib/python3.11/dist-packages (from requests) (3.10)\n",
            "Requirement already satisfied: urllib3<3,>=1.21.1 in /usr/local/lib/python3.11/dist-packages (from requests) (2.5.0)\n",
            "Requirement already satisfied: certifi>=2017.4.17 in /usr/local/lib/python3.11/dist-packages (from requests) (2025.7.14)\n",
            "Requirement already satisfied: numpy>=1.23.2 in /usr/local/lib/python3.11/dist-packages (from pandas) (2.0.2)\n",
            "Requirement already satisfied: python-dateutil>=2.8.2 in /usr/local/lib/python3.11/dist-packages (from pandas) (2.9.0.post0)\n",
            "Requirement already satisfied: pytz>=2020.1 in /usr/local/lib/python3.11/dist-packages (from pandas) (2025.2)\n",
            "Requirement already satisfied: tzdata>=2022.7 in /usr/local/lib/python3.11/dist-packages (from pandas) (2025.2)\n",
            "Collecting asn1crypto<2.0.0,>0.24.0 (from snowflake-connector-python)\n",
            "  Downloading asn1crypto-1.5.1-py2.py3-none-any.whl.metadata (13 kB)\n",
            "Collecting boto3>=1.24 (from snowflake-connector-python)\n",
            "  Downloading boto3-1.39.15-py3-none-any.whl.metadata (6.7 kB)\n",
            "Collecting botocore>=1.24 (from snowflake-connector-python)\n",
            "  Downloading botocore-1.39.15-py3-none-any.whl.metadata (5.7 kB)\n",
            "Requirement already satisfied: cffi<2.0.0,>=1.9 in /usr/local/lib/python3.11/dist-packages (from snowflake-connector-python) (1.17.1)\n",
            "Requirement already satisfied: cryptography>=3.1.0 in /usr/local/lib/python3.11/dist-packages (from snowflake-connector-python) (43.0.3)\n",
            "Requirement already satisfied: pyOpenSSL<26.0.0,>=22.0.0 in /usr/local/lib/python3.11/dist-packages (from snowflake-connector-python) (24.2.1)\n",
            "Requirement already satisfied: pyjwt<3.0.0 in /usr/local/lib/python3.11/dist-packages (from snowflake-connector-python) (2.10.1)\n",
            "Requirement already satisfied: packaging in /usr/local/lib/python3.11/dist-packages (from snowflake-connector-python) (25.0)\n",
            "Requirement already satisfied: typing_extensions<5,>=4.3 in /usr/local/lib/python3.11/dist-packages (from snowflake-connector-python) (4.14.1)\n",
            "Requirement already satisfied: filelock<4,>=3.5 in /usr/local/lib/python3.11/dist-packages (from snowflake-connector-python) (3.18.0)\n",
            "Requirement already satisfied: sortedcontainers>=2.4.0 in /usr/local/lib/python3.11/dist-packages (from snowflake-connector-python) (2.4.0)\n",
            "Requirement already satisfied: platformdirs<5.0.0,>=2.6.0 in /usr/local/lib/python3.11/dist-packages (from snowflake-connector-python) (4.3.8)\n",
            "Requirement already satisfied: tomlkit in /usr/local/lib/python3.11/dist-packages (from snowflake-connector-python) (0.13.3)\n",
            "Collecting jmespath<2.0.0,>=0.7.1 (from boto3>=1.24->snowflake-connector-python)\n",
            "  Downloading jmespath-1.0.1-py3-none-any.whl.metadata (7.6 kB)\n",
            "Collecting s3transfer<0.14.0,>=0.13.0 (from boto3>=1.24->snowflake-connector-python)\n",
            "  Downloading s3transfer-0.13.1-py3-none-any.whl.metadata (1.7 kB)\n",
            "Requirement already satisfied: pycparser in /usr/local/lib/python3.11/dist-packages (from cffi<2.0.0,>=1.9->snowflake-connector-python) (2.22)\n",
            "Requirement already satisfied: six>=1.5 in /usr/local/lib/python3.11/dist-packages (from python-dateutil>=2.8.2->pandas) (1.17.0)\n",
            "Downloading snowflake_connector_python-3.16.0-cp311-cp311-manylinux_2_17_x86_64.manylinux2014_x86_64.whl (2.7 MB)\n",
            "\u001b[2K   \u001b[90m━━━━━━━━━━━━━━━━━━━━━━━━━━━━━━━━━━━━━━━━\u001b[0m \u001b[32m2.7/2.7 MB\u001b[0m \u001b[31m30.6 MB/s\u001b[0m eta \u001b[36m0:00:00\u001b[0m\n",
            "\u001b[?25hDownloading asn1crypto-1.5.1-py2.py3-none-any.whl (105 kB)\n",
            "\u001b[2K   \u001b[90m━━━━━━━━━━━━━━━━━━━━━━━━━━━━━━━━━━━━━━━━\u001b[0m \u001b[32m105.0/105.0 kB\u001b[0m \u001b[31m8.6 MB/s\u001b[0m eta \u001b[36m0:00:00\u001b[0m\n",
            "\u001b[?25hDownloading boto3-1.39.15-py3-none-any.whl (139 kB)\n",
            "\u001b[2K   \u001b[90m━━━━━━━━━━━━━━━━━━━━━━━━━━━━━━━━━━━━━━━━\u001b[0m \u001b[32m139.9/139.9 kB\u001b[0m \u001b[31m10.7 MB/s\u001b[0m eta \u001b[36m0:00:00\u001b[0m\n",
            "\u001b[?25hDownloading botocore-1.39.15-py3-none-any.whl (13.9 MB)\n",
            "\u001b[2K   \u001b[90m━━━━━━━━━━━━━━━━━━━━━━━━━━━━━━━━━━━━━━━━\u001b[0m \u001b[32m13.9/13.9 MB\u001b[0m \u001b[31m94.6 MB/s\u001b[0m eta \u001b[36m0:00:00\u001b[0m\n",
            "\u001b[?25hDownloading jmespath-1.0.1-py3-none-any.whl (20 kB)\n",
            "Downloading s3transfer-0.13.1-py3-none-any.whl (85 kB)\n",
            "\u001b[2K   \u001b[90m━━━━━━━━━━━━━━━━━━━━━━━━━━━━━━━━━━━━━━━━\u001b[0m \u001b[32m85.3/85.3 kB\u001b[0m \u001b[31m6.5 MB/s\u001b[0m eta \u001b[36m0:00:00\u001b[0m\n",
            "\u001b[?25hInstalling collected packages: asn1crypto, jmespath, botocore, s3transfer, boto3, snowflake-connector-python\n",
            "Successfully installed asn1crypto-1.5.1 boto3-1.39.15 botocore-1.39.15 jmespath-1.0.1 s3transfer-0.13.1 snowflake-connector-python-3.16.0\n"
          ]
        }
      ],
      "source": [
        "!pip install requests pandas snowflake-connector-python\n"
      ]
    },
    {
      "cell_type": "code",
      "source": [
        "import requests\n",
        "import pandas as pd\n",
        "from datetime import datetime\n",
        "import snowflake.connector\n",
        "from google.colab import userdata\n"
      ],
      "metadata": {
        "id": "pL94BZvzrrJT"
      },
      "execution_count": null,
      "outputs": []
    },
    {
      "cell_type": "code",
      "source": [
        "url = \"https://api.coingecko.com/api/v3/coins/bitcoin/market_chart\"\n",
        "params = {\n",
        "    \"vs_currency\": \"usd\",\n",
        "    \"days\": \"180\",\n",
        "    \"interval\": \"daily\"\n",
        "}\n",
        "\n",
        "response = requests.get(url, params=params)\n",
        "data = response.json()\n"
      ],
      "metadata": {
        "id": "_PlPvlaHrymm"
      },
      "execution_count": null,
      "outputs": []
    },
    {
      "cell_type": "code",
      "source": [
        "# Convert timestamps to dates and extract price + volume\n",
        "prices = data[\"prices\"]\n",
        "volumes = data[\"total_volumes\"]\n",
        "\n",
        "btc_data = []\n",
        "for i in range(len(prices)):\n",
        "    timestamp = prices[i][0] / 1000  # Convert ms to s\n",
        "    date = datetime.utcfromtimestamp(timestamp).strftime('%Y-%m-%d')\n",
        "    price = prices[i][1]\n",
        "    volume = volumes[i][1]\n",
        "\n",
        "    btc_data.append({\n",
        "        \"date\": date,\n",
        "        \"open\": price,\n",
        "        \"high\": price,\n",
        "        \"low\": price,\n",
        "        \"close\": price,\n",
        "        \"volume\": volume\n",
        "    })\n",
        "\n",
        "df = pd.DataFrame(btc_data)\n",
        "df = df.sort_values(by=\"date\")\n",
        "df.reset_index(drop=True, inplace=True)\n",
        "print(df.head())\n"
      ],
      "metadata": {
        "colab": {
          "base_uri": "https://localhost:8080/"
        },
        "id": "iOZpyYiBrzSS",
        "outputId": "a8f5a96a-ae40-43b9-a860-26d3b92a0f1e"
      },
      "execution_count": null,
      "outputs": [
        {
          "output_type": "stream",
          "name": "stdout",
          "text": [
            "         date           open           high            low          close  \\\n",
            "0  2025-01-31  104781.513510  104781.513510  104781.513510  104781.513510   \n",
            "1  2025-02-01  102382.394097  102382.394097  102382.394097  102382.394097   \n",
            "2  2025-02-02  100674.787625  100674.787625  100674.787625  100674.787625   \n",
            "3  2025-02-03   97568.316530   97568.316530   97568.316530   97568.316530   \n",
            "4  2025-02-04  101466.860666  101466.860666  101466.860666  101466.860666   \n",
            "\n",
            "         volume  \n",
            "0  4.212257e+10  \n",
            "1  3.718782e+10  \n",
            "2  2.282778e+10  \n",
            "3  5.978423e+10  \n",
            "4  1.221640e+11  \n"
          ]
        }
      ]
    },
    {
      "cell_type": "code",
      "source": [
        "sf_account = userdata.get(\"snowflake_account\")\n",
        "sf_user = userdata.get(\"snowflake_userid\")\n",
        "sf_password = userdata.get(\"snowflake_password\")\n",
        "\n",
        "conn = snowflake.connector.connect(\n",
        "    user=sf_user,\n",
        "    password=sf_password,\n",
        "    account=sf_account,\n",
        "    warehouse=\"COMPUTE_WH\",\n",
        "    database=\"BITCOIN\",\n",
        "    schema=\"BITCOINSCHEMA\"\n",
        ")\n",
        "cursor = conn.cursor()\n"
      ],
      "metadata": {
        "id": "3HXIGN61r1hE"
      },
      "execution_count": null,
      "outputs": []
    },
    {
      "cell_type": "code",
      "source": [
        "cursor.execute(\"DELETE FROM BTC_PRICES\")\n"
      ],
      "metadata": {
        "colab": {
          "base_uri": "https://localhost:8080/"
        },
        "id": "XuhQRVDwr7yV",
        "outputId": "86df89d9-793e-4cc2-9cf5-e58746819bae"
      },
      "execution_count": null,
      "outputs": [
        {
          "output_type": "execute_result",
          "data": {
            "text/plain": [
              "<snowflake.connector.cursor.SnowflakeCursor at 0x7fd9a19ac2d0>"
            ]
          },
          "metadata": {},
          "execution_count": 7
        }
      ]
    },
    {
      "cell_type": "code",
      "source": [
        "for _, row in df.iterrows():\n",
        "    cursor.execute(\"\"\"\n",
        "        INSERT INTO BTC_PRICES (date, open, high, low, close, volume)\n",
        "        VALUES (%s, %s, %s, %s, %s, %s)\n",
        "    \"\"\", (\n",
        "        row['date'],\n",
        "        row['open'],\n",
        "        row['high'],\n",
        "        row['low'],\n",
        "        row['close'],\n",
        "        row['volume']\n",
        "    ))\n"
      ],
      "metadata": {
        "id": "BwMdJRvBsH3o"
      },
      "execution_count": null,
      "outputs": []
    },
    {
      "cell_type": "code",
      "source": [
        "cursor.close()\n",
        "conn.close()\n"
      ],
      "metadata": {
        "id": "73NfaxBCsIev"
      },
      "execution_count": null,
      "outputs": []
    },
    {
      "cell_type": "code",
      "source": [],
      "metadata": {
        "id": "oE6mR4Wqskwc"
      },
      "execution_count": null,
      "outputs": []
    }
  ]
}